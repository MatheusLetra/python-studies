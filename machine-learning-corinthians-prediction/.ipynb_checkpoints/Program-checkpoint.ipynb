{
 "cells": [
  {
   "cell_type": "code",
   "execution_count": 8,
   "metadata": {},
   "outputs": [],
   "source": [
    "import pandas as pd\n",
    "archive = pd.read_csv('Jogos_Corinthians.csv',encoding= 'unicode_escape')"
   ]
  },
  {
   "cell_type": "code",
   "execution_count": 25,
   "metadata": {},
   "outputs": [
    {
     "data": {
      "text/html": [
       "<div>\n",
       "<style scoped>\n",
       "    .dataframe tbody tr th:only-of-type {\n",
       "        vertical-align: middle;\n",
       "    }\n",
       "\n",
       "    .dataframe tbody tr th {\n",
       "        vertical-align: top;\n",
       "    }\n",
       "\n",
       "    .dataframe thead th {\n",
       "        text-align: right;\n",
       "    }\n",
       "</style>\n",
       "<table border=\"1\" class=\"dataframe\">\n",
       "  <thead>\n",
       "    <tr style=\"text-align: right;\">\n",
       "      <th></th>\n",
       "      <th>DATA</th>\n",
       "      <th>CORINTHIANS</th>\n",
       "      <th>PLACARCOR</th>\n",
       "      <th>PLACARADV</th>\n",
       "      <th>ADVERSÁRIO</th>\n",
       "    </tr>\n",
       "  </thead>\n",
       "  <tbody>\n",
       "    <tr>\n",
       "      <th>0</th>\n",
       "      <td>17-01-60</td>\n",
       "      <td>CORINTHIANS</td>\n",
       "      <td>2</td>\n",
       "      <td>2</td>\n",
       "      <td>LONDRINA (FR)</td>\n",
       "    </tr>\n",
       "    <tr>\n",
       "      <th>1</th>\n",
       "      <td>20-01-60</td>\n",
       "      <td>CORINTHIANS</td>\n",
       "      <td>1</td>\n",
       "      <td>1</td>\n",
       "      <td>CORINTHIANS (PRUDENTE)</td>\n",
       "    </tr>\n",
       "    <tr>\n",
       "      <th>2</th>\n",
       "      <td>28-01-60</td>\n",
       "      <td>CORINTHIANS</td>\n",
       "      <td>4</td>\n",
       "      <td>2</td>\n",
       "      <td>COMB. UNIV. CATÓLICA/UNIV. DE CHILE</td>\n",
       "    </tr>\n",
       "    <tr>\n",
       "      <th>3</th>\n",
       "      <td>20-02-60</td>\n",
       "      <td>CORINTHIANS</td>\n",
       "      <td>5</td>\n",
       "      <td>2</td>\n",
       "      <td>COMB. INTER BEBEDOURO/JABOTICABAL</td>\n",
       "    </tr>\n",
       "    <tr>\n",
       "      <th>4</th>\n",
       "      <td>21-02-60</td>\n",
       "      <td>CORINTHIANS</td>\n",
       "      <td>3</td>\n",
       "      <td>6</td>\n",
       "      <td>JABOTICABAL</td>\n",
       "    </tr>\n",
       "  </tbody>\n",
       "</table>\n",
       "</div>"
      ],
      "text/plain": [
       "       DATA  CORINTHIANS  PLACARCOR  PLACARADV  \\\n",
       "0  17-01-60  CORINTHIANS          2          2   \n",
       "1  20-01-60  CORINTHIANS          1          1   \n",
       "2  28-01-60  CORINTHIANS          4          2   \n",
       "3  20-02-60  CORINTHIANS          5          2   \n",
       "4  21-02-60  CORINTHIANS          3          6   \n",
       "\n",
       "                            ADVERSÁRIO  \n",
       "0                        LONDRINA (FR)  \n",
       "1               CORINTHIANS (PRUDENTE)  \n",
       "2  COMB. UNIV. CATÓLICA/UNIV. DE CHILE  \n",
       "3    COMB. INTER BEBEDOURO/JABOTICABAL  \n",
       "4                          JABOTICABAL  "
      ]
     },
     "execution_count": 25,
     "metadata": {},
     "output_type": "execute_result"
    }
   ],
   "source": [
    "archive.head()"
   ]
  },
  {
   "cell_type": "code",
   "execution_count": 26,
   "metadata": {},
   "outputs": [],
   "source": [
    "dados = []\n",
    "for _, d in archive.iterrows():\n",
    "    data = d['DATA']\n",
    "    golsCorinthians = d['PLACARCOR']\n",
    "    golsAdversario  = d['PLACARADV']\n",
    "    if golsCorinthians > golsAdversario:\n",
    "        dados.append('2') #Vitória\n",
    "    elif golsCorinthians < golsAdversario:\n",
    "       dados.append('0') #Derrota\n",
    "    else:\n",
    "       dados.append('1') #Empate"
   ]
  },
  {
   "cell_type": "code",
   "execution_count": 28,
   "metadata": {},
   "outputs": [
    {
     "data": {
      "image/png": "[encoded data removed]",
      "text/plain": [
       "<Figure size 432x288 with 1 Axes>"
      ]
     },
     "metadata": {
      "needs_background": "light"
     },
     "output_type": "display_data"
    }
   ],
   "source": [
    "import matplotlib.pyplot as plt\n",
    "plt.plot(dados[0:5],archive['DATA'][0:5])\n",
    "plt.show()"
   ]
  },
  {
   "cell_type": "code",
   "execution_count": 29,
   "metadata": {
    "scrolled": true
   },
   "outputs": [
    {
     "data": {
      "text/plain": [
       "array([2., 2., 2.])"
      ]
     },
     "execution_count": 29,
     "metadata": {},
     "output_type": "execute_result"
    }
   ],
   "source": [
    "janela = 2\n",
    "\n",
    "import numpy as np\n",
    "entrada = np.zeros((len(dados)-janela,janela))\n",
    "saida = np.zeros((len(dados)-janela))\n",
    "for i in range(len(dados)-janela):\n",
    "    entrada[i] = dados[i:i+janela]\n",
    "    saida[i]   = dados[i+janela]\n",
    "    \n",
    "    \n",
    "from sklearn.model_selection import train_test_split    \n",
    "train_x, test_x, train_y, test_y = train_test_split(entrada,saida,test_size=0.2, shuffle=False)\n",
    "\n",
    "from sklearn.naive_bayes import MultinomialNB  \n",
    "clf_nayve = MultinomialNB().fit(train_x, train_y) \n",
    "pred_naive = clf_nayve.predict(test_x[400:403])\n",
    "pred_naive"
   ]
  }
 ],
 "metadata": {
  "kernelspec": {
   "display_name": "Python 3",
   "language": "python",
   "name": "python3"
  },
  "language_info": {
   "codemirror_mode": {
    "name": "ipython",
    "version": 3
   },
   "file_extension": ".py",
   "mimetype": "text/x-python",
   "name": "python",
   "nbconvert_exporter": "python",
   "pygments_lexer": "ipython3",
   "version": "3.7.6"
  }
 },
 "nbformat": 4,
 "nbformat_minor": 4
}
